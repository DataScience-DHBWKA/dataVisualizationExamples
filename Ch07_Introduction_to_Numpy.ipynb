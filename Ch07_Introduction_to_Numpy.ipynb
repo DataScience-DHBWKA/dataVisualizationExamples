{
 "cells": [
  {
   "cell_type": "markdown",
   "id": "461873be",
   "metadata": {},
   "source": [
    "## The NumPy Array\n",
    "Basierend auf Kyran Dale\n",
    "https://github.com/Kyrand/dataviz-with-python-and-js-ed-2.git"
   ]
  },
  {
   "cell_type": "code",
   "execution_count": 140,
   "id": "2119148a",
   "metadata": {},
   "outputs": [],
   "source": [
    "import numpy as np"
   ]
  },
  {
   "cell_type": "code",
   "execution_count": 173,
   "id": "7b97f055",
   "metadata": {},
   "outputs": [
    {
     "name": "stdout",
     "output_type": "stream",
     "text": [
      "a =  [1 2 3]\n",
      "a1 =  [[1]\n",
      " [2]\n",
      " [3]]\n",
      "b =  ['1' '2' '3' 'text']\n"
     ]
    }
   ],
   "source": [
    "a = np.array([1, 2, 3]) # Horizontaler Vektor\n",
    "a + a\n",
    "a1 = np.array([[1], [2], [3]]) # Vertikaler Vektor\n",
    "\n",
    "b = np.array([1,2,3,'text'])\n",
    "\n",
    "print('a = ', a)\n",
    "print('a1 = ', a1)\n",
    "print('b = ',b)\n"
   ]
  },
  {
   "cell_type": "code",
   "execution_count": 142,
   "id": "b959798c",
   "metadata": {},
   "outputs": [],
   "source": [
    "def print_array_details(a):\n",
    "    print('Dimensions: %d, shape: %s, dtype: %s'%(a.ndim, a.shape, a.dtype))"
   ]
  },
  {
   "cell_type": "code",
   "execution_count": 143,
   "metadata": {},
   "outputs": [
    {
     "name": "stdout",
     "output_type": "stream",
     "text": [
      "Dimensions: 1, shape: (3,), dtype: int64\n",
      "Dimensions: 2, shape: (3, 1), dtype: int64\n",
      "Dimensions: 1, shape: (4,), dtype: <U21\n"
     ]
    }
   ],
   "source": [
    "print_array_details(a)\n",
    "print_array_details(a1)\n",
    "print_array_details(b)"
   ]
  },
  {
   "cell_type": "code",
   "execution_count": 144,
   "id": "b903f03d",
   "metadata": {},
   "outputs": [
    {
     "name": "stdout",
     "output_type": "stream",
     "text": [
      "a1 =  [1 2 3 4 5 6 7 8 9]\n"
     ]
    }
   ],
   "source": [
    "a = np.array([1, 2, 3, 4, 5, 6, 7, 8])\n",
    "# Alternativ\n",
    "a1 = np.array(list(range(1,10,1))) # range erzeugt Zahlen von 1 bis 10 mit Abstand 1\n",
    "print('a1 = ', a1)"
   ]
  },
  {
   "cell_type": "code",
   "execution_count": 145,
   "id": "86816d83",
   "metadata": {},
   "outputs": [
    {
     "name": "stdout",
     "output_type": "stream",
     "text": [
      "Dimensions: 1, shape: (8,), dtype: int64\n"
     ]
    }
   ],
   "source": [
    "print_array_details(a)"
   ]
  },
  {
   "cell_type": "code",
   "execution_count": 146,
   "id": "5bb56cb9",
   "metadata": {},
   "outputs": [
    {
     "name": "stdout",
     "output_type": "stream",
     "text": [
      "a = [[1 2 3 4]\n",
      " [5 6 7 8]]\n",
      "Dimensions: 2, shape: (2, 4), dtype: int64\n"
     ]
    }
   ],
   "source": [
    "a = a.reshape([2, 4])\n",
    "print('a =', a)\n",
    "print_array_details(a)"
   ]
  },
  {
   "cell_type": "code",
   "execution_count": 147,
   "id": "2c85dd8c",
   "metadata": {},
   "outputs": [
    {
     "name": "stdout",
     "output_type": "stream",
     "text": [
      "a = [[[1 2]\n",
      "  [3 4]]\n",
      "\n",
      " [[5 6]\n",
      "  [7 8]]]\n"
     ]
    }
   ],
   "source": [
    "a = a.reshape([2, 2, 2])\n",
    "print('a =', a)"
   ]
  },
  {
   "cell_type": "code",
   "execution_count": 148,
   "id": "ae1f74ee",
   "metadata": {},
   "outputs": [
    {
     "name": "stdout",
     "output_type": "stream",
     "text": [
      "Dimensions: 3, shape: (2, 2, 2), dtype: int64\n"
     ]
    }
   ],
   "source": [
    "print_array_details(a)"
   ]
  },
  {
   "cell_type": "code",
   "execution_count": 149,
   "id": "da8134d1",
   "metadata": {},
   "outputs": [
    {
     "data": {
      "text/plain": [
       "(2, 3)"
      ]
     },
     "execution_count": 149,
     "metadata": {},
     "output_type": "execute_result"
    }
   ],
   "source": [
    "x = np.array([[1, 2, 3], [4, 5, 6]], np.int32)\n",
    "x.shape"
   ]
  },
  {
   "cell_type": "code",
   "execution_count": 150,
   "id": "66134d9c",
   "metadata": {},
   "outputs": [
    {
     "data": {
      "text/plain": [
       "array([1, 2, 3, 4, 5, 6], dtype=int32)"
      ]
     },
     "execution_count": 150,
     "metadata": {},
     "output_type": "execute_result"
    }
   ],
   "source": [
    "x.shape = (6,)\n",
    "x"
   ]
  },
  {
   "cell_type": "code",
   "execution_count": 151,
   "id": "9d58461f",
   "metadata": {},
   "outputs": [
    {
     "data": {
      "text/plain": [
       "dtype('int64')"
      ]
     },
     "execution_count": 151,
     "metadata": {},
     "output_type": "execute_result"
    }
   ],
   "source": [
    "x = x.astype('int64')\n",
    "x.dtype"
   ]
  },
  {
   "cell_type": "markdown",
   "id": "13e50618",
   "metadata": {},
   "source": [
    "## Creating Arrays"
   ]
  },
  {
   "cell_type": "code",
   "execution_count": 152,
   "id": "06449c13",
   "metadata": {},
   "outputs": [
    {
     "name": "stdout",
     "output_type": "stream",
     "text": [
      "a =  [[0. 0. 0.]\n",
      " [0. 0. 0.]]\n",
      "float64\n"
     ]
    }
   ],
   "source": [
    "a = np.zeros([2,3])\n",
    "print(\"a = \", a)\n",
    "print(a.dtype)"
   ]
  },
  {
   "cell_type": "code",
   "execution_count": 153,
   "id": "7c922133",
   "metadata": {},
   "outputs": [
    {
     "data": {
      "text/plain": [
       "array([[1., 1., 1.],\n",
       "       [1., 1., 1.]])"
      ]
     },
     "execution_count": 153,
     "metadata": {},
     "output_type": "execute_result"
    }
   ],
   "source": [
    "np.ones([2, 3])"
   ]
  },
  {
   "cell_type": "code",
   "execution_count": 154,
   "id": "d8323530",
   "metadata": {},
   "outputs": [
    {
     "name": "stdout",
     "output_type": "stream",
     "text": [
      "empty_array =  [[1. 1. 1.]\n",
      " [1. 1. 1.]]\n",
      "float64\n"
     ]
    }
   ],
   "source": [
    "empty_array = np.empty((2,3))\n",
    "print(\"empty_array = \", empty_array) # Die Werte des Arrays sind nicht-deterministisch\n",
    "print(empty_array.dtype)"
   ]
  },
  {
   "cell_type": "code",
   "execution_count": 155,
   "id": "96e7d90d",
   "metadata": {},
   "outputs": [
    {
     "data": {
      "text/plain": [
       "array([[0.98363628, 0.72996907, 0.29231454],\n",
       "       [0.33205454, 0.01858337, 0.11788496]])"
      ]
     },
     "execution_count": 155,
     "metadata": {},
     "output_type": "execute_result"
    }
   ],
   "source": [
    "np.random.random((2,3)) # random: Random Sampling in numpy; random: Werte zwischen 0<=x<1"
   ]
  },
  {
   "cell_type": "code",
   "execution_count": 156,
   "metadata": {},
   "outputs": [
    {
     "data": {
      "text/plain": [
       "array([[ 1.07656826,  0.43361681,  0.68488789],\n",
       "       [-0.89807409,  1.4477989 , -0.29079983]])"
      ]
     },
     "execution_count": 156,
     "metadata": {},
     "output_type": "execute_result"
    }
   ],
   "source": [
    "np.random.normal(0,1, (2,3)) # normal: Normalverteilung mit Mittelwert 0, Standardabweichung 1 und Shape (2,3)"
   ]
  },
  {
   "cell_type": "code",
   "execution_count": 157,
   "id": "6962a38b",
   "metadata": {},
   "outputs": [
    {
     "name": "stdout",
     "output_type": "stream",
     "text": [
      "a =  [ 2.  4.  6.  8. 10.]\n",
      "float64\n"
     ]
    }
   ],
   "source": [
    "a = np.linspace(2, 10, 5) # 5 numbers in range 2-10\n",
    "print(\"a = \", a)\n",
    "print(a.dtype)"
   ]
  },
  {
   "cell_type": "code",
   "execution_count": 158,
   "id": "6fe4d1bc",
   "metadata": {},
   "outputs": [
    {
     "name": "stdout",
     "output_type": "stream",
     "text": [
      "a =  [2 4 6 8]\n",
      "int64\n",
      "b =  [2. 4. 6. 8.]\n",
      "float64\n"
     ]
    }
   ],
   "source": [
    "a = np.arange(2, 10, 2)\n",
    "print(\"a = \", a)\n",
    "print(a.dtype)\n",
    "\n",
    "b = np.arange(2, 10, 2.)\n",
    "print(\"b = \", b)\n",
    "print(b.dtype)"
   ]
  },
  {
   "cell_type": "markdown",
   "id": "26f4a50b",
   "metadata": {},
   "source": [
    "## Array Indexing and Slicing"
   ]
  },
  {
   "cell_type": "code",
   "execution_count": 190,
   "id": "d83b3aeb",
   "metadata": {},
   "outputs": [
    {
     "name": "stdout",
     "output_type": "stream",
     "text": [
      "a[2] =  3\n"
     ]
    }
   ],
   "source": [
    "a = np.array([1, 2, 3, 4, 5, 6])\n",
    "print(\"a[2] = \", a[2])\n"
   ]
  },
  {
   "cell_type": "code",
   "execution_count": 191,
   "id": "f852bd1d",
   "metadata": {},
   "outputs": [
    {
     "data": {
      "text/plain": [
       "array([4, 5])"
      ]
     },
     "execution_count": 191,
     "metadata": {},
     "output_type": "execute_result"
    }
   ],
   "source": [
    "a[3:5]"
   ]
  },
  {
   "cell_type": "code",
   "execution_count": 192,
   "id": "a7d56fe6",
   "metadata": {},
   "outputs": [
    {
     "data": {
      "text/plain": [
       "array([0, 2, 0, 4, 5, 6])"
      ]
     },
     "execution_count": 192,
     "metadata": {},
     "output_type": "execute_result"
    }
   ],
   "source": [
    "# every second item from 0-4 set to 0\n",
    "a[:4:2] = 0\n",
    "a"
   ]
  },
  {
   "cell_type": "code",
   "execution_count": 193,
   "id": "1361a189",
   "metadata": {},
   "outputs": [
    {
     "data": {
      "text/plain": [
       "array([6, 5, 4, 0, 2, 0])"
      ]
     },
     "execution_count": 193,
     "metadata": {},
     "output_type": "execute_result"
    }
   ],
   "source": [
    "a[::-1]"
   ]
  },
  {
   "cell_type": "code",
   "execution_count": 194,
   "metadata": {},
   "outputs": [
    {
     "name": "stdout",
     "output_type": "stream",
     "text": [
      "[[[ 0  1  2  3]\n",
      "  [ 4  5  6  7]]\n",
      "\n",
      " [[ 8  9 10 11]\n",
      "  [12 13 14 15]]]\n"
     ]
    }
   ],
   "source": [
    "a = np.arange(16)\n",
    "a = a.reshape(2,2,4)\n",
    "print(a)"
   ]
  },
  {
   "cell_type": "code",
   "execution_count": 195,
   "metadata": {},
   "outputs": [
    {
     "name": "stdout",
     "output_type": "stream",
     "text": [
      "[[0 1 2 3]\n",
      " [4 5 6 7]]\n",
      "True\n",
      "[0 1 2 3]\n"
     ]
    }
   ],
   "source": [
    "print(a[0])\n",
    "print(np.array_equal(a[0,:,:], a[0]))\n",
    "print(a[0,0,:])"
   ]
  },
  {
   "cell_type": "code",
   "execution_count": 196,
   "metadata": {},
   "outputs": [
    {
     "name": "stdout",
     "output_type": "stream",
     "text": [
      "[0 2]\n"
     ]
    }
   ],
   "source": [
    "print(a[0,0,::2])"
   ]
  },
  {
   "cell_type": "markdown",
   "metadata": {},
   "source": [
    "# Fancy Indexing"
   ]
  },
  {
   "cell_type": "code",
   "execution_count": 199,
   "metadata": {},
   "outputs": [
    {
     "name": "stdout",
     "output_type": "stream",
     "text": [
      "a =  [0 1 2 3 4 5 6 7 8 9]\n",
      "a =  [ 0 99 99  3 99  5  6  7 99  9]\n"
     ]
    }
   ],
   "source": [
    "a = np.arange(10)\n",
    "print('a = ', a)\n",
    "i = np.array([2, 1, 8, 4]) # array aus indizes\n",
    "a[i] = 99\n",
    "print('a = ', a)"
   ]
  },
  {
   "cell_type": "code",
   "execution_count": 200,
   "metadata": {},
   "outputs": [
    {
     "name": "stdout",
     "output_type": "stream",
     "text": [
      "a =  [ 0 89 89  3 89  5  6  7 89  9]\n"
     ]
    }
   ],
   "source": [
    "a[i] -= 10\n",
    "print('a = ', a)"
   ]
  },
  {
   "cell_type": "code",
   "execution_count": 204,
   "metadata": {},
   "outputs": [
    {
     "name": "stdout",
     "output_type": "stream",
     "text": [
      "a =  [ 0 89 89  6 89]\n"
     ]
    }
   ],
   "source": [
    "# Auswahl Werte mit geradem Index ab 0\n",
    "print('a = ', a[::2])"
   ]
  },
  {
   "cell_type": "code",
   "execution_count": 205,
   "metadata": {},
   "outputs": [
    {
     "name": "stdout",
     "output_type": "stream",
     "text": [
      "a =  [ True False False  True False  True  True  True False  True]\n"
     ]
    }
   ],
   "source": [
    "# Boolsche Indexierung\n",
    "print('a = ', a<10)"
   ]
  },
  {
   "cell_type": "markdown",
   "id": "d9bcb765",
   "metadata": {},
   "source": [
    "## A Few Basic Operations"
   ]
  },
  {
   "cell_type": "code",
   "execution_count": 206,
   "id": "524515bb",
   "metadata": {},
   "outputs": [
    {
     "name": "stdout",
     "output_type": "stream",
     "text": [
      "a =  [[0 1 2]\n",
      " [3 4 5]]\n",
      "a+2 =  [[2 3 4]\n",
      " [5 6 7]]\n",
      "a-2 =  [[-2 -1  0]\n",
      " [ 1  2  3]]\n",
      "a/2 =  [[0.  0.5 1. ]\n",
      " [1.5 2.  2.5]]\n"
     ]
    }
   ],
   "source": [
    "a = np.arange(6)\n",
    "a = a.reshape(2,3)\n",
    "print('a = ', a)\n",
    "print('a+2 = ', a+2)\n",
    "print('a-2 = ', a-2)\n",
    "print('a/2 = ', a/2.0)"
   ]
  },
  {
   "cell_type": "code",
   "execution_count": 188,
   "metadata": {},
   "outputs": [
    {
     "data": {
      "text/plain": [
       "array([ True, False, False,  True, False,  True])"
      ]
     },
     "execution_count": 188,
     "metadata": {},
     "output_type": "execute_result"
    }
   ],
   "source": [
    "a = np.array([45, 65, 76, 32, 99, 22])\n",
    "a < 50"
   ]
  },
  {
   "cell_type": "code",
   "execution_count": 212,
   "id": "9b078973",
   "metadata": {},
   "outputs": [
    {
     "name": "stdout",
     "output_type": "stream",
     "text": [
      "a =  [[0 1 2 3]\n",
      " [4 5 6 7]]\n",
      "a.min(axis=1) =  [0 4]\n",
      "a.sum(axis=0) =  [ 4  6  8 10]\n",
      "a.mean(axis=1) =  [1.5 5.5]\n",
      "a.std(axis=1) =  [1.11803399 1.11803399]\n"
     ]
    }
   ],
   "source": [
    "# Some array methods\n",
    "a = np.arange(8).reshape((2,4))\n",
    "print('a = ', a)\n",
    "\n",
    "# Minimum\n",
    "print('a.min(axis=1) = ', a.min(axis=1))\n",
    "# Summe\n",
    "print('a.sum(axis=0) = ', a.sum(axis=0))\n",
    "# Mittelwert\n",
    "print('a.mean(axis=1) = ', a.mean(axis=1))\n",
    "# Standardabweichung\n",
    "print('a.std(axis=1) = ', a.std(axis=1))"
   ]
  },
  {
   "cell_type": "code",
   "execution_count": 89,
   "id": "e4338f9a",
   "metadata": {},
   "outputs": [
    {
     "data": {
      "text/plain": [
       "array([180.,  90.,  45.,  30.])"
      ]
     },
     "execution_count": 89,
     "metadata": {},
     "output_type": "execute_result"
    }
   ],
   "source": [
    "# Trigonometric functions\n",
    "pi = np.pi\n",
    "a = np.array([pi, pi/2, pi/4, pi/6])\n",
    "np.degrees(a) # radians to degrees"
   ]
  },
  {
   "cell_type": "code",
   "execution_count": 90,
   "id": "bf3f0579",
   "metadata": {},
   "outputs": [
    {
     "data": {
      "text/plain": [
       "array([1.22464680e-16, 1.00000000e+00, 7.07106781e-01, 5.00000000e-01])"
      ]
     },
     "execution_count": 90,
     "metadata": {},
     "output_type": "execute_result"
    }
   ],
   "source": [
    "sin_a = np.sin(a)\n",
    "sin_a"
   ]
  },
  {
   "cell_type": "code",
   "execution_count": 91,
   "id": "89a3149d",
   "metadata": {},
   "outputs": [
    {
     "data": {
      "text/plain": [
       "array([0.       , 1.       , 0.7071068, 0.5      ])"
      ]
     },
     "execution_count": 91,
     "metadata": {},
     "output_type": "execute_result"
    }
   ],
   "source": [
    "np.round(sin_a, 7) # round to 7 decimal places"
   ]
  },
  {
   "cell_type": "code",
   "execution_count": 92,
   "id": "b9107873",
   "metadata": {},
   "outputs": [
    {
     "data": {
      "text/plain": [
       "array([[0, 1, 2, 3],\n",
       "       [4, 5, 6, 7]])"
      ]
     },
     "execution_count": 92,
     "metadata": {},
     "output_type": "execute_result"
    }
   ],
   "source": [
    "# Sums, products, differences\n",
    "a = np.arange(8).reshape((2,4))\n",
    "a"
   ]
  },
  {
   "cell_type": "code",
   "execution_count": 93,
   "id": "3aec2322",
   "metadata": {},
   "outputs": [
    {
     "data": {
      "text/plain": [
       "array([[ 0,  1,  3,  6],\n",
       "       [ 4,  9, 15, 22]])"
      ]
     },
     "execution_count": 93,
     "metadata": {},
     "output_type": "execute_result"
    }
   ],
   "source": [
    "np.cumsum(a, axis=1) # cumulative sum along second axis"
   ]
  },
  {
   "cell_type": "code",
   "execution_count": 94,
   "id": "95a1093b",
   "metadata": {},
   "outputs": [
    {
     "data": {
      "text/plain": [
       "array([ 0,  1,  3,  6, 10, 15, 21, 28])"
      ]
     },
     "execution_count": 94,
     "metadata": {},
     "output_type": "execute_result"
    }
   ],
   "source": [
    "np.cumsum(a) # without axis argument, array is flattened"
   ]
  },
  {
   "cell_type": "markdown",
   "id": "b57f4b74",
   "metadata": {},
   "source": [
    "# Creating Array Functions"
   ]
  },
  {
   "cell_type": "markdown",
   "id": "63791e2d",
   "metadata": {},
   "source": [
    "## Calculating a Moving Average"
   ]
  },
  {
   "cell_type": "code",
   "execution_count": 95,
   "id": "38761a1c",
   "metadata": {},
   "outputs": [],
   "source": [
    "# Calculate a moving average with window size n\n",
    "def moving_average(a, n=3):\n",
    "    ret = np.cumsum(a, dtype=float)\n",
    "    ret[n:] = ret[n:] - ret[:-n]\n",
    "    return ret[n - 1:] / n"
   ]
  },
  {
   "cell_type": "code",
   "execution_count": 96,
   "id": "ea6a95cc",
   "metadata": {},
   "outputs": [
    {
     "data": {
      "text/plain": [
       "array([0, 1, 2, 3, 4, 5])"
      ]
     },
     "execution_count": 96,
     "metadata": {},
     "output_type": "execute_result"
    }
   ],
   "source": [
    "a = np.arange(6)\n",
    "a"
   ]
  },
  {
   "cell_type": "code",
   "execution_count": 97,
   "id": "54c5862c",
   "metadata": {},
   "outputs": [
    {
     "data": {
      "text/plain": [
       "array([ 0,  1,  3,  6, 10, 15])"
      ]
     },
     "execution_count": 97,
     "metadata": {},
     "output_type": "execute_result"
    }
   ],
   "source": [
    "csum = np.cumsum(a)\n",
    "csum"
   ]
  },
  {
   "cell_type": "code",
   "execution_count": 98,
   "id": "e6b8bfaf",
   "metadata": {},
   "outputs": [
    {
     "data": {
      "text/plain": [
       "array([ 0,  1,  3,  6,  9, 12])"
      ]
     },
     "execution_count": 98,
     "metadata": {},
     "output_type": "execute_result"
    }
   ],
   "source": [
    "csum[3:] = csum[3:] - csum[:-3]\n",
    "csum"
   ]
  },
  {
   "cell_type": "code",
   "execution_count": 99,
   "id": "c0365922",
   "metadata": {},
   "outputs": [
    {
     "data": {
      "text/plain": [
       "array([0, 1, 2, 3, 4, 5, 6, 7, 8, 9])"
      ]
     },
     "execution_count": 99,
     "metadata": {},
     "output_type": "execute_result"
    }
   ],
   "source": [
    "a = np.arange(10)\n",
    "a"
   ]
  },
  {
   "cell_type": "code",
   "execution_count": 100,
   "id": "65a022d5",
   "metadata": {},
   "outputs": [
    {
     "data": {
      "text/plain": [
       "array([1.5, 2.5, 3.5, 4.5, 5.5, 6.5, 7.5])"
      ]
     },
     "execution_count": 100,
     "metadata": {},
     "output_type": "execute_result"
    }
   ],
   "source": [
    "moving_average(a, 4)"
   ]
  }
 ],
 "metadata": {
  "kernelspec": {
   "display_name": "Python 3 (ipykernel)",
   "language": "python",
   "name": "python3"
  },
  "language_info": {
   "codemirror_mode": {
    "name": "ipython",
    "version": 3
   },
   "file_extension": ".py",
   "mimetype": "text/x-python",
   "name": "python",
   "nbconvert_exporter": "python",
   "pygments_lexer": "ipython3",
   "version": "3.11.3"
  }
 },
 "nbformat": 4,
 "nbformat_minor": 5
}
