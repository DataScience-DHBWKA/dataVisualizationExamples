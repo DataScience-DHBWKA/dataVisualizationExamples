{
 "cells": [
  {
   "cell_type": "markdown",
   "metadata": {},
   "source": [
    "# NumPy-Arrays vs. Python-Listen"
   ]
  },
  {
   "cell_type": "code",
   "execution_count": 1,
   "metadata": {},
   "outputs": [],
   "source": [
    "import numpy as np\n",
    "import time"
   ]
  },
  {
   "cell_type": "code",
   "execution_count": 3,
   "metadata": {},
   "outputs": [
    {
     "name": "stdout",
     "output_type": "stream",
     "text": [
      "[0 1 2 3 4 5 6 7 8 9]\n",
      "[0, 1, 2, 3, 4, 5, 6, 7, 8, 9]\n",
      "1000000\n"
     ]
    }
   ],
   "source": [
    "size = 1000000\n",
    "\n",
    "x = np.arange(size) # numpy-array zwischen 0-size mit Schrittgröße 1\n",
    "y = list(range(size)) # Python Liste mit Elementen 0-size mit Schrittgröße 1\n",
    "\n",
    "print(x[:10])\n",
    "print(y[:10])\n",
    "\n",
    "print(sum(x==y)) # Prüfen ob alle Elemente gleich sind\n",
    "\n"
   ]
  },
  {
   "cell_type": "code",
   "execution_count": 4,
   "metadata": {},
   "outputs": [
    {
     "name": "stdout",
     "output_type": "stream",
     "text": [
      "0.0011780261993408203\n",
      "[ 0  1  4  9 16 25 36 49 64 81]\n"
     ]
    }
   ],
   "source": [
    "# Numpy Array: Quadrieren der Elemente \n",
    "start = time.time()\n",
    "x_sq = np.square(x)\n",
    "end = time.time()\n",
    "print(end - start)\n",
    "print(x_sq[:10])"
   ]
  },
  {
   "cell_type": "code",
   "execution_count": 5,
   "metadata": {},
   "outputs": [
    {
     "name": "stdout",
     "output_type": "stream",
     "text": [
      "a =  [0 1 2 3 4 5 6 7 8 9]\n",
      "a^2 =  [ 2  3  0  1  6  7  4  5 10 11]\n",
      "x1^x2 =  1\n",
      "square(a) =  [ 0  1  4  9 16 25 36 49 64 81]\n",
      "a*a =  [ 0  1  4  9 16 25 36 49 64 81]\n",
      "a**2 =  [ 0  1  4  9 16 25 36 49 64 81]\n"
     ]
    }
   ],
   "source": [
    "# Power\n",
    "a = np.arange(10)\n",
    "print('a = ', a)\n",
    "print('a^2 = ', a^2) # Bitweises XOR\n",
    "x1 = 3 # Binär '11'\n",
    "x2 = 2 # Binär '10'\n",
    "print('x1^x2 = ', x1^x2) # Bitweises XOR: 1 XOR 1 = 0, 1 XOR 0 = 1, Ergebnis ist '01' in dezimalschreibeweise 1\n",
    "\n",
    "print('square(a) = ', np.square(a))\n",
    "print('a*a = ', a*a)\n",
    "print('a**2 = ', a**2)\n",
    "\n"
   ]
  },
  {
   "cell_type": "code",
   "execution_count": 6,
   "metadata": {},
   "outputs": [
    {
     "name": "stdout",
     "output_type": "stream",
     "text": [
      "0.06921505928039551\n",
      "[0, 1, 4, 9, 16, 25, 36, 49, 64, 81]\n",
      "1000000\n"
     ]
    }
   ],
   "source": [
    "# List - Loop - Quadrieren der Elemente\n",
    "y_sq = y\n",
    "start = time.time()\n",
    "for i in range(len(y)):\n",
    "    y_sq[i] = y[i]**2\n",
    "end = time.time()\n",
    "print(end - start)\n",
    "\n",
    "print(y_sq[:10])\n",
    "print(sum(y_sq == x_sq))"
   ]
  },
  {
   "cell_type": "code",
   "execution_count": 7,
   "metadata": {},
   "outputs": [
    {
     "name": "stdout",
     "output_type": "stream",
     "text": [
      "0.04376506805419922\n",
      "[0, 1, 4, 9, 16, 25, 36, 49, 64, 81]\n",
      "1000000\n"
     ]
    }
   ],
   "source": [
    "# List - Loop - List Comprehensions\n",
    "start = time.time()\n",
    "y_squared = [i ** 2 for i in y]\n",
    "end = time.time()\n",
    "print(end - start)\n",
    "\n",
    "print(y_sq[:10])\n",
    "print(sum(y_sq == x_sq))"
   ]
  },
  {
   "cell_type": "code",
   "execution_count": 8,
   "metadata": {},
   "outputs": [
    {
     "name": "stdout",
     "output_type": "stream",
     "text": [
      "[[  1   2   3   4   5   6   7   8   9  10]\n",
      " [ 11  12  13  14  15  16  17  18  19  20]\n",
      " [ 21  22  23  24  25  26  27  28  29  30]\n",
      " [ 31  32  33  34  35  36  37  38  39  40]\n",
      " [ 41  42  43  44  45  46  47  48  49  50]\n",
      " [ 51  52  53  54  55  56  57  58  59  60]\n",
      " [ 61  62  63  64  65  66  67  68  69  70]\n",
      " [ 71  72  73  74  75  76  77  78  79  80]\n",
      " [ 81  82  83  84  85  86  87  88  89  90]\n",
      " [ 91  92  93  94  95  96  97  98  99 100]]\n"
     ]
    }
   ],
   "source": [
    "a = np.arange(100)\n",
    "a = a.reshape(10,10)+1\n",
    "print(a)"
   ]
  },
  {
   "cell_type": "code",
   "execution_count": 9,
   "metadata": {},
   "outputs": [
    {
     "name": "stdout",
     "output_type": "stream",
     "text": [
      "[[  1   2   3   4   5   6   7   8   9  10]\n",
      " [ 41  42  43  44  45  46  47  48  49  50]\n",
      " [ 91  92  93  94  95  96  97  98  99 100]]\n",
      "[[  1   2   3   4   5   6   7   8   9  10]\n",
      " [ 41  42  43  44  45  46  47  48  49  50]\n",
      " [ 91  92  93  94  95  96  97  98  99 100]]\n"
     ]
    }
   ],
   "source": [
    "print(a[[0,4,9],])\n",
    "print(a[[0,4,-1],])"
   ]
  },
  {
   "cell_type": "code",
   "execution_count": 10,
   "metadata": {},
   "outputs": [
    {
     "name": "stdout",
     "output_type": "stream",
     "text": [
      "[[13 17]\n",
      " [33 37]\n",
      " [53 57]\n",
      " [73 77]\n",
      " [93 97]]\n"
     ]
    }
   ],
   "source": [
    "print(a[1::2,[2,6]])\n"
   ]
  },
  {
   "cell_type": "code",
   "execution_count": 11,
   "metadata": {},
   "outputs": [
    {
     "name": "stdout",
     "output_type": "stream",
     "text": [
      "[[ 1  2  3]\n",
      " [11 12 13]\n",
      " [21 22 23]]\n"
     ]
    }
   ],
   "source": [
    "print(a[0:3,0:3])"
   ]
  },
  {
   "cell_type": "code",
   "execution_count": 13,
   "metadata": {},
   "outputs": [
    {
     "name": "stdout",
     "output_type": "stream",
     "text": [
      "[[  1   2   3   4   5   6   7   8   9  10]\n",
      " [ 11  12  13  14  15  16  17  18  19  20]\n",
      " [ 21  22  23  24  25  26  27  28  29  30]\n",
      " [ 31  32  33  34  35  36  37  38  39  40]\n",
      " [ 41  42  43  44  45  46  47  48  49  50]\n",
      " [ 51  52  53  54  55  56  57  58  59  60]\n",
      " [ 61  62  63  64  65  66  67  68  69  70]\n",
      " [ 71  72  73  74  75  76  77  78  79  80]\n",
      " [ 81  82  83  84  85  86  87  88  89  90]\n",
      " [ 91  92  93  94  95  96  97  98  99 100]]\n"
     ]
    }
   ],
   "source": [
    "a[[1,3],] = -a[[1,3],]\n",
    "print(a)"
   ]
  },
  {
   "cell_type": "code",
   "execution_count": 14,
   "metadata": {},
   "outputs": [
    {
     "name": "stdout",
     "output_type": "stream",
     "text": [
      "[[  0   0   0   0   0   0   0   0   0   0]\n",
      " [  0   0   0   0   0   0   0   0   0   0]\n",
      " [  0   0   0   0  25  26  27  28  29  30]\n",
      " [ 31  32  33  34  35  36  37  38  39  40]\n",
      " [ 41  42  43  44  45  46  47  48  49  50]\n",
      " [ 51  52  53  54  55  56  57  58  59  60]\n",
      " [ 61  62  63  64  65  66  67  68  69  70]\n",
      " [ 71  72  73  74  75  76  77  78  79  80]\n",
      " [ 81  82  83  84  85  86  87  88  89  90]\n",
      " [ 91  92  93  94  95  96  97  98  99 100]]\n"
     ]
    }
   ],
   "source": [
    "a[a<25] = 0\n",
    "print(a)"
   ]
  },
  {
   "cell_type": "markdown",
   "metadata": {},
   "source": [
    "# Statistiken"
   ]
  },
  {
   "cell_type": "code",
   "execution_count": 16,
   "metadata": {},
   "outputs": [
    {
     "name": "stdout",
     "output_type": "stream",
     "text": [
      "[[ 57  92  99 149]\n",
      " [ 91  45  40 121]\n",
      " [ 70  88 116 106]\n",
      " [ 27  83  81  42]\n",
      " [ 77  21 148  80]\n",
      " [ 28 135 141  50]\n",
      " [ 91  69  77  23]\n",
      " [ 44  63  96  46]\n",
      " [ 72 100 129 135]\n",
      " [ 61  35  84  45]\n",
      " [131  46 124  42]\n",
      " [ 29 146  43 145]]\n",
      "[ 57  92  99 149]\n"
     ]
    }
   ],
   "source": [
    "np.random.seed(1)\n",
    "niederschlag = np.random.randint(20, 150, size=(3, 12, 4))  # 3 Städte, 12 Monate, 4 Messungen pro Monat\n",
    "print(niederschlag[0,:,:])\n",
    "print(niederschlag[0,0,:])"
   ]
  },
  {
   "cell_type": "code",
   "execution_count": 17,
   "metadata": {},
   "outputs": [
    {
     "name": "stdout",
     "output_type": "stream",
     "text": [
      "Minimum je Monat und Stadt:  [[ 57  40  70  27  21  28  23  44  72  35  42  29]\n",
      " [ 52  30  66  23  22  27  40  27  30 101  80  30]\n",
      " [ 35  40  30  45  44  41  65  65  66  53  51  48]]\n",
      "(3, 12)\n",
      "Minimum je Stadt:  [21 22 30]\n",
      "Minimum je Stadt:  [21 22 30]\n",
      "Mittelwert je Stadt:  [80.47916667 81.45833333 84.10416667]\n",
      "Median je Stadt:  [78.5 89.5 78.5]\n",
      "Standardabweichung je Stadt:  [38.4534294 37.7066298 32.0937686]\n"
     ]
    }
   ],
   "source": [
    "print('Minimum je Monat und Stadt: ', niederschlag.min(axis=2))\n",
    "print(niederschlag.min(axis=2).shape)\n",
    "print('Minimum je Stadt: ', np.min(np.min(niederschlag, axis=2), axis=1))\n",
    "print('Minimum je Stadt: ', np.min(niederschlag, axis=(2,1)))\n",
    "print('Mittelwert je Stadt: ', np.mean(niederschlag,axis=(2,1)))\n",
    "print('Median je Stadt: ', np.median(niederschlag,axis=(2,1)))\n",
    "print('Standardabweichung je Stadt: ', np.std(niederschlag, axis=(2,1)))"
   ]
  },
  {
   "cell_type": "code",
   "execution_count": 18,
   "metadata": {},
   "outputs": [
    {
     "name": "stdout",
     "output_type": "stream",
     "text": [
      "Maximaler Niederschlag [mm] =  [149 148 148]\n",
      "Stadt mit maximalem Niederschlag (Index):  0\n"
     ]
    }
   ],
   "source": [
    "print('Maximaler Niederschlag [mm] = ', np.max(niederschlag, axis=(2,1)))\n",
    "print('Stadt mit maximalem Niederschlag (Index): ', np.argmax(np.max(niederschlag, axis=(2,1))))"
   ]
  },
  {
   "cell_type": "code",
   "execution_count": 19,
   "metadata": {},
   "outputs": [
    {
     "name": "stdout",
     "output_type": "stream",
     "text": [
      "Mittelwert der Niederschlaege:  [80.47916667 81.45833333 84.10416667]\n",
      "Maximaler Mittelwert (Index):  2\n"
     ]
    }
   ],
   "source": [
    "print('Mittelwert der Niederschlaege: ', np.mean(niederschlag, axis=(2,1)))\n",
    "print('Maximaler Mittelwert (Index): ', np.argmax(np.mean(niederschlag, axis=(2,1))))"
   ]
  },
  {
   "cell_type": "code",
   "execution_count": 20,
   "metadata": {},
   "outputs": [
    {
     "name": "stdout",
     "output_type": "stream",
     "text": [
      "Standardabweichung der Niederschlaege:  [38.4534294 37.7066298 32.0937686]\n",
      "Maximum der Standardabweichung:  38.45342940023541\n",
      "Stadt mit maximalem Niederschlag:  0\n"
     ]
    }
   ],
   "source": [
    "print('Standardabweichung der Niederschlaege: ', niederschlag.std(axis=(2,1)))\n",
    "print('Maximum der Standardabweichung: ', np.max(np.std(niederschlag, axis=(2,1))))\n",
    "print('Stadt mit maximalem Niederschlag: ',np.argmax(np.std(niederschlag, axis=(2,1))))"
   ]
  },
  {
   "cell_type": "code",
   "execution_count": 21,
   "metadata": {},
   "outputs": [
    {
     "name": "stdout",
     "output_type": "stream",
     "text": [
      "[[ 99.25  74.25  95.    58.25  81.5   88.5   65.    62.25 109.    56.25\n",
      "   85.75  90.75]\n",
      " [ 88.    56.25  89.25 100.25  54.    78.75  52.25  73.    55.5  125.\n",
      "  108.5   96.75]\n",
      " [ 75.5   88.5   91.75  79.5   79.    77.75  90.5   98.5   98.    69.75\n",
      "   63.    97.5 ]]\n",
      "[8 9 7]\n"
     ]
    }
   ],
   "source": [
    "print(np.mean(niederschlag, axis=2))\n",
    "print(np.argmax(np.mean(niederschlag, axis=2), axis=1))"
   ]
  },
  {
   "cell_type": "code",
   "execution_count": 23,
   "metadata": {},
   "outputs": [
    {
     "data": {
      "text/plain": [
       "(array([21, 22, 30]),\n",
       " array([149, 148, 148]),\n",
       " array([80.47916667, 81.45833333, 84.10416667]),\n",
       " array([78.5, 89.5, 78.5]),\n",
       " 2,\n",
       " 0,\n",
       " array([[ 99.25,  74.25,  95.  ,  58.25,  81.5 ,  88.5 ,  65.  ,  62.25,\n",
       "         109.  ,  56.25,  85.75,  90.75],\n",
       "        [ 88.  ,  56.25,  89.25, 100.25,  54.  ,  78.75,  52.25,  73.  ,\n",
       "          55.5 , 125.  , 108.5 ,  96.75],\n",
       "        [ 75.5 ,  88.5 ,  91.75,  79.5 ,  79.  ,  77.75,  90.5 ,  98.5 ,\n",
       "          98.  ,  69.75,  63.  ,  97.5 ]]),\n",
       " 11)"
      ]
     },
     "execution_count": 23,
     "metadata": {},
     "output_type": "execute_result"
    }
   ],
   "source": [
    "# 1. Grundlegende statistische Kennzahlen für jede Stadt\n",
    "min_niederschlag = np.min(niederschlag, axis=(1, 2))\n",
    "max_niederschlag = np.max(niederschlag, axis=(1, 2))\n",
    "mittelwert_niederschlag = np.mean(niederschlag, axis=(1, 2))\n",
    "median_niederschlag = np.median(niederschlag, axis=(1, 2))\n",
    "\n",
    "# 2. Vergleich der Städte\n",
    "stadt_hoechster_durchschnitt = np.argmax(np.mean(niederschlag, axis=(1, 2)))\n",
    "stadt_groesste_variabilitaet = np.argmax(np.std(niederschlag, axis=(1, 2)))\n",
    "\n",
    "# 3. Erweiterte statistische Analysen\n",
    "durchschnittlicher_monatlicher_niederschlag = np.mean(niederschlag, axis=2)\n",
    "monat_hoechster_durchschnitt = np.argmax(np.mean(durchschnittlicher_monatlicher_niederschlag, axis=0))\n",
    "\n",
    "min_niederschlag, max_niederschlag, mittelwert_niederschlag, median_niederschlag, stadt_hoechster_durchschnitt, stadt_groesste_variabilitaet, durchschnittlicher_monatlicher_niederschlag, monat_hoechster_durchschnitt"
   ]
  },
  {
   "cell_type": "markdown",
   "metadata": {},
   "source": [
    "## Matplotlib"
   ]
  },
  {
   "cell_type": "code",
   "execution_count": 15,
   "metadata": {},
   "outputs": [],
   "source": [
    "monate = ['Jan', 'Feb', 'Mär', 'Apr', 'Mai', 'Jun', 'Jul', 'Aug', 'Sep', 'Okt', 'Nov', 'Dez']\n",
    "T_ka = [0, 1, 5, 9, 14, 18, 20, 19, 14, 9, 4, 1]\n",
    "T_berlin = [-2, 0, 4, 8, 13, 17, 19, 18, 13, 8, 3, 0]"
   ]
  },
  {
   "cell_type": "code",
   "execution_count": 16,
   "metadata": {},
   "outputs": [
    {
     "data": {
      "text/plain": [
       "Text(0.5, 1.0, 'Durchschnitstemperatur über ein Jahr')"
      ]
     },
     "execution_count": 16,
     "metadata": {},
     "output_type": "execute_result"
    },
    {
     "data": {
      "image/png": "[encoded data removed]",
      "text/plain": [
       "<Figure size 640x480 with 1 Axes>"
      ]
     },
     "metadata": {},
     "output_type": "display_data"
    }
   ],
   "source": [
    "import matplotlib.pyplot as plt\n",
    "plots = plt.plot(monate, T_ka, monate, T_berlin)\n",
    "plt.xlabel('Monate')\n",
    "plt.ylabel('Temperatur in °C')\n",
    "plt.legend(plots, ('Karlsruhe', 'Berlin'))\n",
    "plt.grid(True)\n",
    "plt.title('Durchschnitstemperatur über ein Jahr')"
   ]
  },
  {
   "cell_type": "markdown",
   "metadata": {},
   "source": []
  }
 ],
 "metadata": {
  "kernelspec": {
   "display_name": "Python 3",
   "language": "python",
   "name": "python3"
  },
  "language_info": {
   "codemirror_mode": {
    "name": "ipython",
    "version": 3
   },
   "file_extension": ".py",
   "mimetype": "text/x-python",
   "name": "python",
   "nbconvert_exporter": "python",
   "pygments_lexer": "ipython3",
   "version": "3.11.3"
  }
 },
 "nbformat": 4,
 "nbformat_minor": 2
}
